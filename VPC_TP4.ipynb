{
 "cells": [
  {
   "cell_type": "markdown",
   "metadata": {},
   "source": [
    "## Visión por Computadora - Trabajo Práctico 4\n",
    "\n",
    "- Diego Braga\n",
    "\n",
    "### Enunciado\n",
    "\n",
    "Objetivo:\n",
    "\n",
    "1. Implementar el detector de fondo naive usando la mediana como estimador. El algoritmo debe recibir el parámetro N (cantidad de frames utilizados para la estimación) y el intervalo de tiempo para recalcular el fondo.\n",
    "2. Se deben generar las mascaras de foreground y aplicarlas a los frames para segmentar los objetos en movimiento.\n",
    "3. Comparar con alguno de los métodos vistos en la practica basados en mezcla de gaussianas."
   ]
  },
  {
   "cell_type": "code",
   "execution_count": 49,
   "metadata": {},
   "outputs": [],
   "source": [
    "import cv2\n",
    "import numpy as np\n",
    "import random\n",
    "import psutil\n",
    "import tracemalloc"
   ]
  },
  {
   "cell_type": "markdown",
   "metadata": {},
   "source": [
    "Para resolver este ejercicio se definieron dos funciones. Por un lado se creó *background_subtraction_naive* que utiliza la mediana como estimador y por otro *background_subtraction_mog2* que simplemente utiliza la implementación de OpenCV de MOG2. La función *background_subtraction_naive* recibe los parámetros *N* y *recalc_interval*, siendo el primero la cantidad de frames utilizados para calcular la estimación y recalc_interval el intervalo de recálculo (medido en número de frames transcurridos). La primera estimación se realiza a los *N* frames y luego cada *recalc_interval* frames. La idea es que cada *recalc_interval* frames se estarán tomando de forma aleatoria *N* frames desde la última actualización para realizar el cálculo de la mediana.\n",
    "\n",
    "Se utilizan algunas operaciones morfológicas para mejorar el resultado binarizado de la diferencia del frame con la media del fondo. En particular se utilizan:\n",
    "\n",
    "MORPH_OPEN: Aplica una erosión seguida de una dilatación. Es útil para reducir ruido.\n",
    "MORPH_CLOSE: Aplica una dilatación y luego una erosión. En este caso se utiliza para rellenar pequeños agujeros que puedan quedar en la máscara.\n",
    "\n",
    "El tamaño de los kernels se obtuvo mediante la experimentación. También se realizaron pruebas haciendo las erosiones y dilataciones por separado, pero no hubo mejoras significativas.\n",
    "\n",
    "Ambas funciones implementadas devuelven métricas de consumo de CPU y memoria."
   ]
  },
  {
   "cell_type": "code",
   "execution_count": 50,
   "metadata": {},
   "outputs": [],
   "source": [
    "def background_subtraction_naive(video_path, N, recalc_interval):\n",
    "    \"\"\"\n",
    "    Función que implementa el algoritmo naive utilizando la mediana como estimador para sustracción del fondo en video.\n",
    "    \n",
    "    Args:\n",
    "    video_path (str): Ruta al video a analizar.\n",
    "    N (int): Cantidad de frames utilizados para calcular la estimación.\n",
    "    recalc_interval (int): Intervalo de recálculo (medido en número de frames transcurridos).\n",
    "\n",
    "    Returns:\n",
    "    avg_cpu (float): Promedio de uso de CPU.\n",
    "    memory_peak (float): Uso de memoria (peak).\n",
    "    \"\"\"\n",
    "\n",
    "   # Se lee el video recibido por parámetro\n",
    "    capture = cv2.VideoCapture(video_path)\n",
    "    fps = int(capture.get(cv2.CAP_PROP_FPS))\n",
    "    delay = int(1000 / fps)\n",
    "\n",
    "    if not capture.isOpened():\n",
    "        print('Error al abrir video')\n",
    "        return\n",
    "\n",
    "    # Inicialización de variables\n",
    "    frames = []\n",
    "    interval_counter = 0\n",
    "    cpu_usage = []\n",
    "    median_background = None\n",
    "    kernel_morph_open = np.ones((3, 3), np.uint8)\n",
    "    kernel_morph_close = np.ones((2, 2), np.uint8)\n",
    "\n",
    "    # Se define el tamaño de la ventana desde donde se seleccionan los posibles N frames aleatoriamente\n",
    "    frame_window_size = max(N, recalc_interval)\n",
    "\n",
    "    # Se activa el rastreo de memoria\n",
    "    tracemalloc.start()\n",
    "\n",
    "    while True:\n",
    "        ret, frame = capture.read()\n",
    "        if not ret:\n",
    "            break\n",
    "        \n",
    "        gray_frame = cv2.cvtColor(frame, cv2.COLOR_BGR2GRAY)\n",
    "\n",
    "        # Se almacenan frames para detección del fondo\n",
    "        frames.append(gray_frame)\n",
    "        if len(frames) > frame_window_size:\n",
    "            frames.pop(0)\n",
    "\n",
    "        # Se recalcula el fondo cada recalc_interval frames o si pasaron los primeros N frames\n",
    "        if (interval_counter % recalc_interval == 0) or (median_background is None and len(frames) >= N):\n",
    "            # Se seleccionan N frames aleatoriamente desde el último cálculo\n",
    "            random_frames = random.sample(frames, min(N, len(frames)))\n",
    "            # Se calcula la mediana de los frames\n",
    "            median_background = np.median(random_frames, axis=0).astype(np.uint8)\n",
    "\n",
    "        # Se comienza a mostrar el video cuando se tienen los frames suficientes para calcular el primer fondo\n",
    "        if len(frames) >= N:\n",
    "\n",
    "            # Se resta la mediana al frame\n",
    "            fg_mask = cv2.absdiff(gray_frame, median_background)\n",
    "\n",
    "            # Se binariza la resta\n",
    "            _, fg_mask = cv2.threshold(fg_mask, 35, 255, cv2.THRESH_BINARY)\n",
    "\n",
    "            # Se aplica apertura y cierre (operaciones morfológicas) para mejorar la máscara (reducción de ruido y relleno de agujeros)\n",
    "            fg_mask = cv2.morphologyEx(fg_mask, cv2.MORPH_OPEN, kernel_morph_open)\n",
    "            fg_mask = cv2.morphologyEx(fg_mask, cv2.MORPH_CLOSE, kernel_morph_close)\n",
    "\n",
    "            # Monitoreo de recursos\n",
    "            cpu_usage.append(psutil.cpu_percent())\n",
    "\n",
    "            interval_counter += 1\n",
    "\n",
    "            # Mostrar el resultado\n",
    "            cv2.imshow('Original', frame)\n",
    "            cv2.imshow('Naive (Mediana)', fg_mask)\n",
    "\n",
    "        # Salir con la tecla 'q'\n",
    "        if cv2.waitKey(delay) & 0xFF == ord('q'):\n",
    "            break\n",
    "\n",
    "    # Finalizar captura y mostrar resultados\n",
    "    _, memory_peak = tracemalloc.get_traced_memory()\n",
    "    memory_peak /= 1024 * 1024\n",
    "    capture.release()\n",
    "    cv2.destroyAllWindows()\n",
    "    tracemalloc.stop()\n",
    "\n",
    "    avg_cpu = np.mean(cpu_usage)\n",
    "\n",
    "    return avg_cpu, memory_peak\n"
   ]
  },
  {
   "cell_type": "code",
   "execution_count": 51,
   "metadata": {},
   "outputs": [],
   "source": [
    "def background_subtraction_mog2(video_path):\n",
    "    \"\"\"\n",
    "    Función que utiliza MOG2 de OpenCV para sustracción del fondo en video.\n",
    "    \n",
    "    Args:\n",
    "    video_path (str): Ruta al video a analizar.\n",
    "    N (int): Cantidad de frames utilizados para calcular la estimación.\n",
    "    recalc_interval (int): Intervalo de recálculo (medido en número de frames transcurridos).\n",
    "\n",
    "    Returns:\n",
    "    avg_cpu (float): Promedio de uso de CPU.\n",
    "    memory_peak (float): Uso de memoria (peak).\n",
    "    \"\"\"\n",
    "\n",
    "    capture = cv2.VideoCapture(video_path)\n",
    "    mog2 = cv2.createBackgroundSubtractorMOG2()\n",
    "    fps = int(capture.get(cv2.CAP_PROP_FPS))\n",
    "    delay = int(1000 / fps)\n",
    "\n",
    "    if not capture.isOpened():\n",
    "        print('Falla al abrir el archivo')\n",
    "        return\n",
    "\n",
    "    # Inicialización de variables\n",
    "    cpu_usage = []\n",
    "    tracemalloc.start()\n",
    "\n",
    "    while True:\n",
    "        ret, frame = capture.read()\n",
    "        if not ret:\n",
    "            break\n",
    "\n",
    "        # Aplicar MOG2 para la detección de foreground\n",
    "        fg_mask_mog2 = mog2.apply(frame)\n",
    "\n",
    "        # Monitoreo de recursos\n",
    "        cpu_usage.append(psutil.cpu_percent())\n",
    "\n",
    "        # Mostrar el resultado\n",
    "        cv2.imshow('Original', frame)\n",
    "        cv2.imshow('MOG2', fg_mask_mog2)\n",
    "\n",
    "        # Salir con la tecla 'q'\n",
    "        if cv2.waitKey(delay) & 0xFF == ord('q'):\n",
    "            break\n",
    "\n",
    "    # Finalizar captura y mostrar resultados\n",
    "    _, memory_peak = tracemalloc.get_traced_memory()\n",
    "    memory_peak /= 1024 * 1024\n",
    "    capture.release()\n",
    "    cv2.destroyAllWindows()\n",
    "    tracemalloc.stop()\n",
    "\n",
    "    avg_cpu = np.mean(cpu_usage)\n",
    "\n",
    "    return avg_cpu, memory_peak"
   ]
  },
  {
   "cell_type": "code",
   "execution_count": 52,
   "metadata": {},
   "outputs": [],
   "source": [
    "# Ruta al video\n",
    "video_path = 'vtest.avi'"
   ]
  },
  {
   "cell_type": "code",
   "execution_count": 53,
   "metadata": {},
   "outputs": [],
   "source": [
    "naive_avg_cpu, naive_memory_peak = background_subtraction_naive(video_path, N=30, recalc_interval=60)"
   ]
  },
  {
   "cell_type": "code",
   "execution_count": 54,
   "metadata": {},
   "outputs": [],
   "source": [
    "mog2_avg_cpu, mog2_memory_peak = background_subtraction_mog2(video_path)"
   ]
  },
  {
   "cell_type": "markdown",
   "metadata": {},
   "source": [
    "A simple vista se puede observar que el modelo naive utilizando procesamiento morfológico presenta menor ruido que MOG2 sin ningún procesamiento. Hay algunas situaciones, como por ejemplo cuando algunas personas quedan paradas mucho tiempo en el mismo lugar, que pueden hacer que sean interpretadas como parte del fondo en algunos intervalos. Esto claramente se puede ajustar aumentando el valor de *N* y a su vez reduciendo el valor de *recalc_interval*.\n",
    "\n",
    "Este video tiene la particularidad de que el fondo es bastante estático, lo cual hace que el modelo *naive* tenga un buen resultado. Sin embargo, MOG2 es más tolerante a dichos cambios y tiene la capacidad de aprender de forma más fluida frame a frame.\n",
    "\n",
    "De las ejecuciones anteriores también se obtuvieron de usos máximo de memoria y promedios de utilización de CPU, cuyos resultados fueron los siguientes:"
   ]
  },
  {
   "cell_type": "code",
   "execution_count": 55,
   "metadata": {},
   "outputs": [
    {
     "name": "stdout",
     "output_type": "stream",
     "text": [
      "Memoria utilizada (peak) por algoritmo naive: 56.267741203308105 MB\n",
      "Promedio de uso de CPU por algoritmo naive: 17.589425587467364 %\n"
     ]
    }
   ],
   "source": [
    "print(f'Memoria utilizada (peak) por algoritmo naive: { naive_memory_peak } MB')\n",
    "print(f'Promedio de uso de CPU por algoritmo naive: { naive_avg_cpu } %')"
   ]
  },
  {
   "cell_type": "code",
   "execution_count": 56,
   "metadata": {},
   "outputs": [
    {
     "name": "stdout",
     "output_type": "stream",
     "text": [
      "Memoria utilizada (peak) por algoritmo MOG2: 2.978297233581543 MB\n",
      "Promedio de uso de CPU por algoritmo MOG2: 24.753333333333334 %\n"
     ]
    }
   ],
   "source": [
    "print(f'Memoria utilizada (peak) por algoritmo MOG2: { mog2_memory_peak } MB')\n",
    "print(f'Promedio de uso de CPU por algoritmo MOG2: { mog2_avg_cpu } %')"
   ]
  },
  {
   "cell_type": "markdown",
   "metadata": {},
   "source": [
    "Comparando los dos algoritmos en cuanto a performance, se puede notar que la versión *naive* consume más memoria que MOG2. Esto seguramente se deba a que su implementación requiere tener *N* frames en memoria para poder calcular su media cuando corresponda. Por otro lado MOG2 no requiere tener estos frames en memoria, si no que realiza los cálculos frame a frame utilizando los datos de su histograma.\n",
    "\n",
    "En cuanto al uso de CPU se puede notar un mayor consumo promedio por parte de MOG2 ya que debe realizar cálculos más complejos frame a frame. De todas formas, es conveniente analizar en qué líneas del código se producen estos picos.\n",
    "\n",
    "Para esto se utilizó el módulo *line_profiler* que permite obtener tiempos de ejecución a nivel de líneas de código."
   ]
  },
  {
   "cell_type": "code",
   "execution_count": 57,
   "metadata": {},
   "outputs": [
    {
     "name": "stdout",
     "output_type": "stream",
     "text": [
      "The line_profiler extension is already loaded. To reload it, use:\n",
      "  %reload_ext line_profiler\n"
     ]
    }
   ],
   "source": [
    "%load_ext line_profiler"
   ]
  },
  {
   "cell_type": "code",
   "execution_count": 59,
   "metadata": {},
   "outputs": [
    {
     "name": "stdout",
     "output_type": "stream",
     "text": [
      "Timer unit: 1e-07 s\n",
      "\n",
      "Total time: 89.5965 s\n",
      "File: C:\\Users\\Usuario\\AppData\\Local\\Temp\\ipykernel_11376\\2692692603.py\n",
      "Function: background_subtraction_naive at line 1\n",
      "\n",
      "Line #      Hits         Time  Per Hit   % Time  Line Contents\n",
      "==============================================================\n",
      "     1                                           def background_subtraction_naive(video_path, N, recalc_interval):\n",
      "     2                                               \"\"\"\n",
      "     3                                               Función que implementa el algoritmo naive utilizando la mediana como estimador para sustracción del fondo en video.\n",
      "     4                                               \n",
      "     5                                               Args:\n",
      "     6                                               video_path (str): Ruta al video a analizar.\n",
      "     7                                               N (int): Cantidad de frames utilizados para calcular la estimación.\n",
      "     8                                               recalc_interval (int): Intervalo de recálculo (medido en número de frames transcurridos).\n",
      "     9                                           \n",
      "    10                                               Returns:\n",
      "    11                                               avg_cpu (float): Promedio de uso de CPU.\n",
      "    12                                               memory_peak (float): Uso de memoria (peak).\n",
      "    13                                               \"\"\"\n",
      "    14                                           \n",
      "    15                                              # Se lee el video recibido por parámetro\n",
      "    16         1      22076.0  22076.0      0.0      capture = cv2.VideoCapture(video_path)\n",
      "    17         1        215.0    215.0      0.0      fps = int(capture.get(cv2.CAP_PROP_FPS))\n",
      "    18         1         33.0     33.0      0.0      delay = int(1000 / fps)\n",
      "    19                                           \n",
      "    20         1        311.0    311.0      0.0      if not capture.isOpened():\n",
      "    21                                                   print('Error al abrir video')\n",
      "    22                                                   return\n",
      "    23                                           \n",
      "    24                                               # Inicialización de variables\n",
      "    25         1         17.0     17.0      0.0      frames = []\n",
      "    26         1          9.0      9.0      0.0      interval_counter = 0\n",
      "    27         1          8.0      8.0      0.0      cpu_usage = []\n",
      "    28         1          7.0      7.0      0.0      median_background = None\n",
      "    29         1       1546.0   1546.0      0.0      kernel_morph_open = np.ones((3, 3), np.uint8)\n",
      "    30         1        257.0    257.0      0.0      kernel_morph_close = np.ones((2, 2), np.uint8)\n",
      "    31                                           \n",
      "    32                                               # Se define el tamaño de la ventana desde donde se seleccionan los posibles N frames aleatoriamente\n",
      "    33         1         46.0     46.0      0.0      frame_window_size = max(N, recalc_interval)\n",
      "    34                                           \n",
      "    35                                               # Se activa el rastreo de memoria\n",
      "    36         1         47.0     47.0      0.0      tracemalloc.start()\n",
      "    37                                           \n",
      "    38       796      24358.0     30.6      0.0      while True:\n",
      "    39       796   14938770.0  18767.3      1.7          ret, frame = capture.read()\n",
      "    40       796      13667.0     17.2      0.0          if not ret:\n",
      "    41         1         11.0     11.0      0.0              break\n",
      "    42                                                   \n",
      "    43       795    2183005.0   2745.9      0.2          gray_frame = cv2.cvtColor(frame, cv2.COLOR_BGR2GRAY)\n",
      "    44                                           \n",
      "    45                                                   # Se almacenan frames para detección del fondo\n",
      "    46       795      64129.0     80.7      0.0          frames.append(gray_frame)\n",
      "    47       795      41383.0     52.1      0.0          if len(frames) > frame_window_size:\n",
      "    48       735      77207.0    105.0      0.0              frames.pop(0)\n",
      "    49                                           \n",
      "    50                                                   # Se recalcula el fondo cada recalc_interval frames o si pasaron los primeros N frames\n",
      "    51       795      28649.0     36.0      0.0          if (interval_counter % recalc_interval == 0) or (median_background is None and len(frames) >= N):\n",
      "    52                                                       # Se seleccionan N frames aleatoriamente desde el último cálculo\n",
      "    53        42     263136.0   6265.1      0.0              random_frames = random.sample(frames, min(N, len(frames)))\n",
      "    54                                                       # Se calcula la mediana de los frames\n",
      "    55        42   56072285.0    1e+06      6.3              median_background = np.median(random_frames, axis=0).astype(np.uint8)\n",
      "    56                                           \n",
      "    57                                                   # Se comienza a mostrar el video cuando se tienen los frames suficientes para calcular el primer fondo\n",
      "    58       795      26976.0     33.9      0.0          if len(frames) >= N:\n",
      "    59                                           \n",
      "    60                                                       # Se resta la mediana al frame\n",
      "    61       766    1640190.0   2141.2      0.2              fg_mask = cv2.absdiff(gray_frame, median_background)\n",
      "    62                                           \n",
      "    63                                                       # Se binariza la resta\n",
      "    64       766     781149.0   1019.8      0.1              _, fg_mask = cv2.threshold(fg_mask, 35, 255, cv2.THRESH_BINARY)\n",
      "    65                                           \n",
      "    66                                                       # Se aplica apertura y cierre (operaciones morfológicas) para mejorar la máscara (reducción de ruido y relleno de agujeros)\n",
      "    67       766    2994926.0   3909.8      0.3              fg_mask = cv2.morphologyEx(fg_mask, cv2.MORPH_OPEN, kernel_morph_open)\n",
      "    68       766    2469902.0   3224.4      0.3              fg_mask = cv2.morphologyEx(fg_mask, cv2.MORPH_CLOSE, kernel_morph_close)\n",
      "    69                                           \n",
      "    70                                                       # Monitoreo de recursos\n",
      "    71       766    3433335.0   4482.2      0.4              cpu_usage.append(psutil.cpu_percent())\n",
      "    72                                           \n",
      "    73       766      21180.0     27.7      0.0              interval_counter += 1\n",
      "    74                                           \n",
      "    75                                                       # Mostrar el resultado\n",
      "    76       766    2892154.0   3775.7      0.3              cv2.imshow('Original', frame)\n",
      "    77       766    1943510.0   2537.2      0.2              cv2.imshow('Naive (Mediana)', fg_mask)\n",
      "    78                                           \n",
      "    79                                                   # Salir con la tecla 'q'\n",
      "    80       795  805878780.0    1e+06     89.9          if cv2.waitKey(delay) & 0xFF == ord('q'):\n",
      "    81                                                       break\n",
      "    82                                           \n",
      "    83                                               # Finalizar captura y mostrar resultados\n",
      "    84         1         99.0     99.0      0.0      _, memory_peak = tracemalloc.get_traced_memory()\n",
      "    85         1         32.0     32.0      0.0      memory_peak /= 1024 * 1024\n",
      "    86         1       3249.0   3249.0      0.0      capture.release()\n",
      "    87         1     143286.0 143286.0      0.0      cv2.destroyAllWindows()\n",
      "    88         1       2266.0   2266.0      0.0      tracemalloc.stop()\n",
      "    89                                           \n",
      "    90         1       2769.0   2769.0      0.0      avg_cpu = np.mean(cpu_usage)\n",
      "    91                                           \n",
      "    92         1          9.0      9.0      0.0      return avg_cpu, memory_peak"
     ]
    }
   ],
   "source": [
    "%lprun -f background_subtraction_naive background_subtraction_naive(video_path, N=30, recalc_interval=60)"
   ]
  },
  {
   "cell_type": "markdown",
   "metadata": {},
   "source": [
    "De este profiling se puede observar que hay varias líneas que son las que consumen más tiempo. Algunas son comunes a ambos algoritmos, como por ejemplo la lectura del video, la conversión a escala de grises y, obviamente, el wait para respetar el frame rate. Pero hay una en particular que se destaca y es la siguiente:\n",
    "\n",
    "*median_background = np.median(random_frames, axis=0).astype(np.uint8)*\n",
    "\n",
    "Esta línea es la que calcula la mediana de los *N* backgrounds seleccionados y es clave en el algoritmo. Incluso en las pruebas realizadas se pudo observar en tiempo de ejecución que en el momento del cálculo hay un pequeño lag en el video. Esto podría significar que no sea adecuada su utilización en una aplicación de tiempo real."
   ]
  },
  {
   "cell_type": "code",
   "execution_count": null,
   "metadata": {},
   "outputs": [
    {
     "name": "stdout",
     "output_type": "stream",
     "text": [
      "Timer unit: 1e-07 s\n",
      "\n",
      "Total time: 96.2586 s\n",
      "File: C:\\Users\\Usuario\\AppData\\Local\\Temp\\ipykernel_11376\\875979368.py\n",
      "Function: background_subtraction_mog2 at line 1\n",
      "\n",
      "Line #      Hits         Time  Per Hit   % Time  Line Contents\n",
      "==============================================================\n",
      "     1                                           def background_subtraction_mog2(video_path):\n",
      "     2                                           \n",
      "     3         1      18653.0  18653.0      0.0      capture = cv2.VideoCapture(video_path)\n",
      "     4         1        220.0    220.0      0.0      mog2 = cv2.createBackgroundSubtractorMOG2()\n",
      "     5         1        364.0    364.0      0.0      fps = int(capture.get(cv2.CAP_PROP_FPS))\n",
      "     6         1         31.0     31.0      0.0      delay = int(1000 / fps)\n",
      "     7                                           \n",
      "     8         1         33.0     33.0      0.0      if not capture.isOpened():\n",
      "     9                                                   print('Falla al abrir el archivo')\n",
      "    10                                                   return\n",
      "    11                                           \n",
      "    12                                               # Inicialización de variables\n",
      "    13         1         12.0     12.0      0.0      cpu_usage = []\n",
      "    14         1         46.0     46.0      0.0      tracemalloc.start()\n",
      "    15                                           \n",
      "    16       796      25797.0     32.4      0.0      while True:\n",
      "    17       796   15349248.0  19283.0      1.6          ret, frame = capture.read()\n",
      "    18       796      13536.0     17.0      0.0          if not ret:\n",
      "    19         1          8.0      8.0      0.0              break\n",
      "    20                                           \n",
      "    21                                                   # Aplicar MOG2 para la detección de foreground\n",
      "    22       795   74506743.0  93719.2      7.7          fg_mask_mog2 = mog2.apply(frame)\n",
      "    23                                           \n",
      "    24                                                   # Monitoreo de recursos\n",
      "    25       795    8506648.0  10700.2      0.9          cpu_usage.append(psutil.cpu_percent())\n",
      "    26                                           \n",
      "    27                                                   # Mostrar el resultado\n",
      "    28       795    2629771.0   3307.9      0.3          cv2.imshow('Foreground MOG2', fg_mask_mog2)\n",
      "    29                                           \n",
      "    30                                                   # Salir con la tecla 'q'\n",
      "    31       795  861466850.0    1e+06     89.5          if cv2.waitKey(delay) & 0xFF == ord('q'):\n",
      "    32                                                       break\n",
      "    33                                           \n",
      "    34                                               # Finalizar captura y mostrar resultados\n",
      "    35         1         75.0     75.0      0.0      _, memory_peak = tracemalloc.get_traced_memory()\n",
      "    36         1         24.0     24.0      0.0      memory_peak /= 1024 * 1024\n",
      "    37         1       9360.0   9360.0      0.0      capture.release()\n",
      "    38         1      53402.0  53402.0      0.0      cv2.destroyAllWindows()\n",
      "    39         1       2037.0   2037.0      0.0      tracemalloc.stop()\n",
      "    40                                           \n",
      "    41         1       3459.0   3459.0      0.0      avg_cpu = np.mean(cpu_usage)\n",
      "    42                                           \n",
      "    43         1          6.0      6.0      0.0      return avg_cpu, memory_peak"
     ]
    }
   ],
   "source": [
    "%lprun -f background_subtraction_mog2 background_subtraction_mog2(video_path)"
   ]
  },
  {
   "cell_type": "markdown",
   "metadata": {},
   "source": [
    "En este caso el algoritmo se aplica en la línea:\n",
    "\n",
    "*fg_mask_mog2 = mog2.apply(frame)*\n",
    "\n",
    "Si bien el tiempo utilizado es relativamente alto, es varios órdenes menor al cálculo de la mediana del algoritmo *naive*."
   ]
  }
 ],
 "metadata": {
  "kernelspec": {
   "display_name": "env_introia",
   "language": "python",
   "name": "python3"
  },
  "language_info": {
   "codemirror_mode": {
    "name": "ipython",
    "version": 3
   },
   "file_extension": ".py",
   "mimetype": "text/x-python",
   "name": "python",
   "nbconvert_exporter": "python",
   "pygments_lexer": "ipython3",
   "version": "3.11.8"
  }
 },
 "nbformat": 4,
 "nbformat_minor": 2
}
