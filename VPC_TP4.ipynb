{
 "cells": [
  {
   "cell_type": "markdown",
   "metadata": {},
   "source": [
    "## Visión por Computadora - Trabajo Práctico 4\n",
    "\n",
    "- Diego Braga\n",
    "\n",
    "### Enunciado\n",
    "\n",
    "Objetivo:\n",
    "\n",
    "1. Implementar el detector de fondo naive usando la mediana como estimador. El algoritmo debe recibir el parámetro N (cantidad de frames utilizados para la estimación) y el intervalo de tiempo para recalcular el fondo.\n",
    "2. Se deben generar las mascaras de foreground y aplicarlas a los frames para segmentar los objetos en movimiento.\n",
    "3. Comparar con alguno de los métodos vistos en la practica basados en mezcla de gaussianas."
   ]
  },
  {
   "cell_type": "code",
   "execution_count": 23,
   "metadata": {},
   "outputs": [],
   "source": [
    "import cv2\n",
    "import numpy as np\n",
    "import random\n",
    "import psutil\n",
    "import tracemalloc"
   ]
  },
  {
   "cell_type": "markdown",
   "metadata": {},
   "source": [
    "Para resolver este ejercicio se definieron dos funciones. Por un lado se creó *background_subtraction_naive* que utiliza la mediana como estimador y por otro *background_subtraction_mog2* que simplemente utiliza la implementación de OpenCV de MOG2. La función *background_subtraction_naive* recibe los parámetros *N* y *recalc_interval*, siendo el primero la cantidad de frames utilizados para calcular la estimación y *recalc_interval* el intervalo de recálculo (medido en número de frames transcurridos). La primera estimación se realiza a los *N* frames y luego cada *recalc_interval* frames. La idea es que cada *recalc_interval* frames se estarán tomando de forma aleatoria *N* frames desde la última actualización para realizar el cálculo de la mediana.\n",
    "\n",
    "Se utilizan algunas operaciones morfológicas para mejorar el resultado binarizado de la diferencia del frame con la mediana del fondo. En particular:\n",
    "\n",
    "- MORPH_OPEN: Aplica una erosión seguida de una dilatación. Es útil para reducir ruido.\n",
    "- MORPH_CLOSE: Aplica una dilatación y luego una erosión. En este caso se utiliza para rellenar pequeños agujeros que puedan quedar en la máscara.\n",
    "\n",
    "El tamaño de los kernels se obtuvo mediante la experimentación. También se realizaron pruebas haciendo las erosiones y dilataciones por separado, pero no hubo mejoras significativas.\n",
    "\n",
    "Ambas funciones implementadas devuelven métricas de consumo de CPU y memoria."
   ]
  },
  {
   "cell_type": "code",
   "execution_count": 24,
   "metadata": {},
   "outputs": [],
   "source": [
    "def background_subtraction_naive(video_path, N, recalc_interval):\n",
    "    \"\"\"\n",
    "    Función que implementa el algoritmo naive utilizando la mediana como estimador para sustracción del fondo en video.\n",
    "    \n",
    "    Args:\n",
    "    video_path (str): Ruta al video a analizar.\n",
    "    N (int): Cantidad de frames utilizados para calcular la estimación.\n",
    "    recalc_interval (int): Intervalo de recálculo (medido en número de frames transcurridos).\n",
    "\n",
    "    Returns:\n",
    "    avg_cpu (float): Promedio de uso de CPU.\n",
    "    memory_peak (float): Uso de memoria (peak).\n",
    "    \"\"\"\n",
    "\n",
    "   # Se lee el video recibido por parámetro\n",
    "    capture = cv2.VideoCapture(video_path)\n",
    "    fps = int(capture.get(cv2.CAP_PROP_FPS))\n",
    "    delay = int(1000 / fps)\n",
    "\n",
    "    if not capture.isOpened():\n",
    "        print('Error al abrir video')\n",
    "        return\n",
    "\n",
    "    # Inicialización de variables\n",
    "    frames = []\n",
    "    interval_counter = 0\n",
    "    cpu_usage = []\n",
    "    median_background = None\n",
    "    kernel_morph_open = np.ones((3, 3), np.uint8)\n",
    "    kernel_morph_close = np.ones((2, 2), np.uint8)\n",
    "\n",
    "    # Se define el tamaño de la ventana desde donde se seleccionan los posibles N frames aleatoriamente\n",
    "    frame_window_size = max(N, recalc_interval)\n",
    "\n",
    "    # Se activa el rastreo de memoria\n",
    "    tracemalloc.start()\n",
    "\n",
    "    while True:\n",
    "        ret, frame = capture.read()\n",
    "        if not ret:\n",
    "            break\n",
    "        \n",
    "        gray_frame = cv2.cvtColor(frame, cv2.COLOR_BGR2GRAY)\n",
    "\n",
    "        # Se almacenan frames para detección del fondo\n",
    "        frames.append(gray_frame)\n",
    "        if len(frames) > frame_window_size:\n",
    "            frames.pop(0)\n",
    "\n",
    "        # Se recalcula el fondo cada recalc_interval frames o si pasaron los primeros N frames\n",
    "        if (interval_counter % recalc_interval == 0) or (median_background is None and len(frames) >= N):\n",
    "            # Se seleccionan N frames aleatoriamente desde el último cálculo\n",
    "            random_frames = random.sample(frames, min(N, len(frames)))\n",
    "            # Se calcula la mediana de los frames\n",
    "            median_background = np.median(random_frames, axis=0).astype(np.uint8)\n",
    "\n",
    "        # Se comienza a mostrar el video cuando se tienen los frames suficientes para calcular el primer fondo\n",
    "        if len(frames) >= N:\n",
    "\n",
    "            # Se resta la mediana al frame\n",
    "            fg_mask = cv2.absdiff(gray_frame, median_background)\n",
    "\n",
    "            # Se binariza la resta\n",
    "            _, fg_mask = cv2.threshold(fg_mask, 35, 255, cv2.THRESH_BINARY)\n",
    "\n",
    "            # Se aplica apertura y cierre (operaciones morfológicas) para mejorar la máscara (reducción de ruido y relleno de agujeros)\n",
    "            fg_mask = cv2.morphologyEx(fg_mask, cv2.MORPH_OPEN, kernel_morph_open)\n",
    "            fg_mask = cv2.morphologyEx(fg_mask, cv2.MORPH_CLOSE, kernel_morph_close)\n",
    "\n",
    "            # Monitoreo de recursos\n",
    "            cpu_usage.append(psutil.cpu_percent())\n",
    "\n",
    "            interval_counter += 1\n",
    "\n",
    "            cv2.imshow('Original', frame)\n",
    "            cv2.imshow('Naive (Mediana)', fg_mask)\n",
    "\n",
    "        # Salir con la tecla 'q'\n",
    "        if cv2.waitKey(delay) & 0xFF == ord('q'):\n",
    "            break\n",
    "\n",
    "    # Se obtiene pico de consumo de memoria\n",
    "    _, memory_peak = tracemalloc.get_traced_memory()\n",
    "    memory_peak /= 1024 * 1024\n",
    "\n",
    "    capture.release()\n",
    "    cv2.destroyAllWindows()\n",
    "    tracemalloc.stop()\n",
    "\n",
    "    # Se calcula media de consumo de CPU\n",
    "    avg_cpu = np.mean(cpu_usage)\n",
    "\n",
    "    return avg_cpu, memory_peak\n"
   ]
  },
  {
   "cell_type": "code",
   "execution_count": 25,
   "metadata": {},
   "outputs": [],
   "source": [
    "def background_subtraction_mog2(video_path):\n",
    "    \"\"\"\n",
    "    Función que utiliza MOG2 de OpenCV para sustracción del fondo en video.\n",
    "    \n",
    "    Args:\n",
    "    video_path (str): Ruta al video a analizar.\n",
    "    N (int): Cantidad de frames utilizados para calcular la estimación.\n",
    "    recalc_interval (int): Intervalo de recálculo (medido en número de frames transcurridos).\n",
    "\n",
    "    Returns:\n",
    "    avg_cpu (float): Promedio de uso de CPU.\n",
    "    memory_peak (float): Uso de memoria (peak).\n",
    "    \"\"\"\n",
    "\n",
    "    capture = cv2.VideoCapture(video_path)\n",
    "    mog2 = cv2.createBackgroundSubtractorMOG2()\n",
    "    fps = int(capture.get(cv2.CAP_PROP_FPS))\n",
    "    delay = int(1000 / fps)\n",
    "\n",
    "    if not capture.isOpened():\n",
    "        print('Falla al abrir el archivo')\n",
    "        return\n",
    "\n",
    "    cpu_usage = []\n",
    "    tracemalloc.start()\n",
    "\n",
    "    while True:\n",
    "        ret, frame = capture.read()\n",
    "        if not ret:\n",
    "            break\n",
    "\n",
    "        # Se aplica MOG2 (OpenCV)\n",
    "        fg_mask_mog2 = mog2.apply(frame)\n",
    "\n",
    "        # Se acumulan datos de monitoreo de CPU\n",
    "        cpu_usage.append(psutil.cpu_percent())\n",
    "\n",
    "        cv2.imshow('Original', frame)\n",
    "        cv2.imshow('MOG2', fg_mask_mog2)\n",
    "\n",
    "        if cv2.waitKey(delay) & 0xFF == ord('q'):\n",
    "            break\n",
    "\n",
    "    # Se obtiene pico de consumo de memoria\n",
    "    _, memory_peak = tracemalloc.get_traced_memory()\n",
    "    memory_peak /= 1024 * 1024\n",
    "\n",
    "    capture.release()\n",
    "    cv2.destroyAllWindows()\n",
    "\n",
    "    tracemalloc.stop()\n",
    "\n",
    "    # Se calcula la media de consumo de CPU\n",
    "    avg_cpu = np.mean(cpu_usage)\n",
    "\n",
    "    return avg_cpu, memory_peak"
   ]
  },
  {
   "cell_type": "code",
   "execution_count": 26,
   "metadata": {},
   "outputs": [],
   "source": [
    "# Ruta al video de ejemplo\n",
    "video_path = 'vtest.avi'"
   ]
  },
  {
   "cell_type": "code",
   "execution_count": 27,
   "metadata": {},
   "outputs": [],
   "source": [
    "# Se ejecuta el algoritmo naive\n",
    "naive_avg_cpu, naive_memory_peak = background_subtraction_naive(video_path, N=30, recalc_interval=60)"
   ]
  },
  {
   "cell_type": "code",
   "execution_count": 28,
   "metadata": {},
   "outputs": [],
   "source": [
    "# Se ejecuta el algoritmo MOG2\n",
    "mog2_avg_cpu, mog2_memory_peak = background_subtraction_mog2(video_path)"
   ]
  },
  {
   "cell_type": "markdown",
   "metadata": {},
   "source": [
    "A simple vista se puede observar que el modelo naive, utilizando procesamiento morfológico, presenta menor ruido que MOG2 sin ningún procesamiento. Hay algunas situaciones, como por ejemplo cuando algunas personas quedan paradas mucho tiempo en el mismo lugar, que pueden hacer que sean interpretadas como parte del fondo en algunos intervalos. Esto claramente se puede ajustar aumentando el valor de *N* y a su vez reduciendo el valor de *recalc_interval*. De todas formas seguramente queden artefactos debido a que hay mucha circulación de personas todo el tiempo.\n",
    "\n",
    "Este video tiene la particularidad de que el fondo es bastante estático, lo cual hace que el modelo *naive* tenga un buen resultado. Sin embargo, MOG2 es más tolerante a dichos cambios y tiene la capacidad de aprender de forma más fluida frame a frame.\n",
    "\n",
    "De las ejecuciones anteriores también se obtuvieron datos de usos máximo de memoria y promedios de utilización de CPU, cuyos resultados fueron los siguientes:"
   ]
  },
  {
   "cell_type": "code",
   "execution_count": 29,
   "metadata": {},
   "outputs": [
    {
     "name": "stdout",
     "output_type": "stream",
     "text": [
      "Memoria utilizada (peak) por algoritmo naive: 56.267741203308105 MB\n",
      "Promedio de uso de CPU por algoritmo naive: 14.181592689295037 %\n"
     ]
    }
   ],
   "source": [
    "print(f'Memoria utilizada (peak) por algoritmo naive: { naive_memory_peak } MB')\n",
    "print(f'Promedio de uso de CPU por algoritmo naive: { naive_avg_cpu } %')"
   ]
  },
  {
   "cell_type": "code",
   "execution_count": 30,
   "metadata": {},
   "outputs": [
    {
     "name": "stdout",
     "output_type": "stream",
     "text": [
      "Memoria utilizada (peak) por algoritmo MOG2: 2.9782047271728516 MB\n",
      "Promedio de uso de CPU por algoritmo MOG2: 18.117861635220123 %\n"
     ]
    }
   ],
   "source": [
    "print(f'Memoria utilizada (peak) por algoritmo MOG2: { mog2_memory_peak } MB')\n",
    "print(f'Promedio de uso de CPU por algoritmo MOG2: { mog2_avg_cpu } %')"
   ]
  },
  {
   "cell_type": "markdown",
   "metadata": {},
   "source": [
    "Comparando los dos algoritmos en cuanto a recursos utilizados, se puede notar que la versión *naive* consume más memoria que MOG2. Esto seguramente se deba a que su implementación requiere tener una ventana de frames en memoria para poder calcular su media cuando corresponda. Por otro lado MOG2 no tiene este requisito, si no que realiza los cálculos frame a frame utilizando los datos del histograma.\n",
    "\n",
    "En cuanto al uso de CPU se puede notar un mayor consumo promedio por parte de MOG2 ya que debe realizar cálculos más complejos frame a frame. De todas formas, es conveniente analizar en qué líneas del código se producen estos picos.\n",
    "\n",
    "Para esto se utilizó el módulo *line_profiler* que permite obtener tiempos de ejecución a nivel de líneas de código."
   ]
  },
  {
   "cell_type": "code",
   "execution_count": 31,
   "metadata": {},
   "outputs": [
    {
     "name": "stdout",
     "output_type": "stream",
     "text": [
      "The line_profiler extension is already loaded. To reload it, use:\n",
      "  %reload_ext line_profiler\n"
     ]
    }
   ],
   "source": [
    "# Se carga el módulo\n",
    "%load_ext line_profiler"
   ]
  },
  {
   "cell_type": "code",
   "execution_count": 32,
   "metadata": {},
   "outputs": [
    {
     "name": "stdout",
     "output_type": "stream",
     "text": [
      "Timer unit: 1e-07 s\n",
      "\n",
      "Total time: 89.0021 s\n",
      "File: C:\\Users\\Usuario\\AppData\\Local\\Temp\\ipykernel_3852\\3580087281.py\n",
      "Function: background_subtraction_naive at line 1\n",
      "\n",
      "Line #      Hits         Time  Per Hit   % Time  Line Contents\n",
      "==============================================================\n",
      "     1                                           def background_subtraction_naive(video_path, N, recalc_interval):\n",
      "     2                                               \"\"\"\n",
      "     3                                               Función que implementa el algoritmo naive utilizando la mediana como estimador para sustracción del fondo en video.\n",
      "     4                                               \n",
      "     5                                               Args:\n",
      "     6                                               video_path (str): Ruta al video a analizar.\n",
      "     7                                               N (int): Cantidad de frames utilizados para calcular la estimación.\n",
      "     8                                               recalc_interval (int): Intervalo de recálculo (medido en número de frames transcurridos).\n",
      "     9                                           \n",
      "    10                                               Returns:\n",
      "    11                                               avg_cpu (float): Promedio de uso de CPU.\n",
      "    12                                               memory_peak (float): Uso de memoria (peak).\n",
      "    13                                               \"\"\"\n",
      "    14                                           \n",
      "    15                                              # Se lee el video recibido por parámetro\n",
      "    16         1      37582.0  37582.0      0.0      capture = cv2.VideoCapture(video_path)\n",
      "    17         1        718.0    718.0      0.0      fps = int(capture.get(cv2.CAP_PROP_FPS))\n",
      "    18         1         90.0     90.0      0.0      delay = int(1000 / fps)\n",
      "    19                                           \n",
      "    20         1        135.0    135.0      0.0      if not capture.isOpened():\n",
      "    21                                                   print('Error al abrir video')\n",
      "    22                                                   return\n",
      "    23                                           \n",
      "    24                                               # Inicialización de variables\n",
      "    25         1         42.0     42.0      0.0      frames = []\n",
      "    26         1         54.0     54.0      0.0      interval_counter = 0\n",
      "    27         1         12.0     12.0      0.0      cpu_usage = []\n",
      "    28         1         12.0     12.0      0.0      median_background = None\n",
      "    29         1       1829.0   1829.0      0.0      kernel_morph_open = np.ones((3, 3), np.uint8)\n",
      "    30         1        444.0    444.0      0.0      kernel_morph_close = np.ones((2, 2), np.uint8)\n",
      "    31                                           \n",
      "    32                                               # Se define el tamaño de la ventana desde donde se seleccionan los posibles N frames aleatoriamente\n",
      "    33         1        197.0    197.0      0.0      frame_window_size = max(N, recalc_interval)\n",
      "    34                                           \n",
      "    35                                               # Se activa el rastreo de memoria\n",
      "    36         1         72.0     72.0      0.0      tracemalloc.start()\n",
      "    37                                           \n",
      "    38       796      21369.0     26.8      0.0      while True:\n",
      "    39       796   14851682.0  18657.9      1.7          ret, frame = capture.read()\n",
      "    40       796      13186.0     16.6      0.0          if not ret:\n",
      "    41         1          7.0      7.0      0.0              break\n",
      "    42                                                   \n",
      "    43       795    2195200.0   2761.3      0.2          gray_frame = cv2.cvtColor(frame, cv2.COLOR_BGR2GRAY)\n",
      "    44                                           \n",
      "    45                                                   # Se almacenan frames para detección del fondo\n",
      "    46       795      67520.0     84.9      0.0          frames.append(gray_frame)\n",
      "    47       795      44959.0     56.6      0.0          if len(frames) > frame_window_size:\n",
      "    48       735     107463.0    146.2      0.0              frames.pop(0)\n",
      "    49                                           \n",
      "    50                                                   # Se recalcula el fondo cada recalc_interval frames o si pasaron los primeros N frames\n",
      "    51       795      30998.0     39.0      0.0          if (interval_counter % recalc_interval == 0) or (median_background is None and len(frames) >= N):\n",
      "    52                                                       # Se seleccionan N frames aleatoriamente desde el último cálculo\n",
      "    53        42     390628.0   9300.7      0.0              random_frames = random.sample(frames, min(N, len(frames)))\n",
      "    54                                                       # Se calcula la mediana de los frames\n",
      "    55        42   49859799.0    1e+06      5.6              median_background = np.median(random_frames, axis=0).astype(np.uint8)\n",
      "    56                                           \n",
      "    57                                                   # Se comienza a mostrar el video cuando se tienen los frames suficientes para calcular el primer fondo\n",
      "    58       795      21754.0     27.4      0.0          if len(frames) >= N:\n",
      "    59                                           \n",
      "    60                                                       # Se resta la mediana al frame\n",
      "    61       766    2417760.0   3156.3      0.3              fg_mask = cv2.absdiff(gray_frame, median_background)\n",
      "    62                                           \n",
      "    63                                                       # Se binariza la resta\n",
      "    64       766     759604.0    991.7      0.1              _, fg_mask = cv2.threshold(fg_mask, 35, 255, cv2.THRESH_BINARY)\n",
      "    65                                           \n",
      "    66                                                       # Se aplica apertura y cierre (operaciones morfológicas) para mejorar la máscara (reducción de ruido y relleno de agujeros)\n",
      "    67       766    3176734.0   4147.2      0.4              fg_mask = cv2.morphologyEx(fg_mask, cv2.MORPH_OPEN, kernel_morph_open)\n",
      "    68       766    2612008.0   3409.9      0.3              fg_mask = cv2.morphologyEx(fg_mask, cv2.MORPH_CLOSE, kernel_morph_close)\n",
      "    69                                           \n",
      "    70                                                       # Monitoreo de recursos\n",
      "    71       766    3421630.0   4466.9      0.4              cpu_usage.append(psutil.cpu_percent())\n",
      "    72                                           \n",
      "    73       766      18904.0     24.7      0.0              interval_counter += 1\n",
      "    74                                           \n",
      "    75       766    2852980.0   3724.5      0.3              cv2.imshow('Original', frame)\n",
      "    76       766    1930876.0   2520.7      0.2              cv2.imshow('Naive (Mediana)', fg_mask)\n",
      "    77                                           \n",
      "    78                                                   # Salir con la tecla 'q'\n",
      "    79       795  805081822.0    1e+06     90.5          if cv2.waitKey(delay) & 0xFF == ord('q'):\n",
      "    80                                                       break\n",
      "    81                                           \n",
      "    82                                               # Se obtiene pico de consumo de memoria\n",
      "    83         1         92.0     92.0      0.0      _, memory_peak = tracemalloc.get_traced_memory()\n",
      "    84         1         20.0     20.0      0.0      memory_peak /= 1024 * 1024\n",
      "    85                                           \n",
      "    86         1       3407.0   3407.0      0.0      capture.release()\n",
      "    87         1      94871.0  94871.0      0.0      cv2.destroyAllWindows()\n",
      "    88         1       2373.0   2373.0      0.0      tracemalloc.stop()\n",
      "    89                                           \n",
      "    90                                               # Se calcula media de consumo de CPU\n",
      "    91         1       2360.0   2360.0      0.0      avg_cpu = np.mean(cpu_usage)\n",
      "    92                                           \n",
      "    93         1          7.0      7.0      0.0      return avg_cpu, memory_peak"
     ]
    }
   ],
   "source": [
    "%lprun -f background_subtraction_naive background_subtraction_naive(video_path, N=30, recalc_interval=60)"
   ]
  },
  {
   "cell_type": "markdown",
   "metadata": {},
   "source": [
    "De este profiling se puede observar que hay varias líneas que son las que consumen más tiempo. Algunas son comunes a ambos algoritmos, como por ejemplo la lectura del video, la conversión a escala de grises y, obviamente, el wait para respetar el frame rate. Pero hay una en particular que se destaca y es la siguiente:\n",
    "\n",
    "*median_background = np.median(random_frames, axis=0).astype(np.uint8)*\n",
    "\n",
    "Esta línea es la que calcula la mediana de los *N* backgrounds seleccionados y es clave en el algoritmo. Incluso en las pruebas realizadas localmente se pudo observar en tiempo de ejecución que en el momento del cálculo hay un pequeño lag en el video. Esto podría significar que no sea adecuada su utilización en una aplicación de tiempo real, a menos que se tengan los recursos computacionales adecuados."
   ]
  },
  {
   "cell_type": "code",
   "execution_count": 33,
   "metadata": {},
   "outputs": [
    {
     "name": "stdout",
     "output_type": "stream",
     "text": [
      "Timer unit: 1e-07 s\n",
      "\n",
      "Total time: 96.4043 s\n",
      "File: C:\\Users\\Usuario\\AppData\\Local\\Temp\\ipykernel_3852\\3278358850.py\n",
      "Function: background_subtraction_mog2 at line 1\n",
      "\n",
      "Line #      Hits         Time  Per Hit   % Time  Line Contents\n",
      "==============================================================\n",
      "     1                                           def background_subtraction_mog2(video_path):\n",
      "     2                                               \"\"\"\n",
      "     3                                               Función que utiliza MOG2 de OpenCV para sustracción del fondo en video.\n",
      "     4                                               \n",
      "     5                                               Args:\n",
      "     6                                               video_path (str): Ruta al video a analizar.\n",
      "     7                                               N (int): Cantidad de frames utilizados para calcular la estimación.\n",
      "     8                                               recalc_interval (int): Intervalo de recálculo (medido en número de frames transcurridos).\n",
      "     9                                           \n",
      "    10                                               Returns:\n",
      "    11                                               avg_cpu (float): Promedio de uso de CPU.\n",
      "    12                                               memory_peak (float): Uso de memoria (peak).\n",
      "    13                                               \"\"\"\n",
      "    14                                           \n",
      "    15         1      21850.0  21850.0      0.0      capture = cv2.VideoCapture(video_path)\n",
      "    16         1        141.0    141.0      0.0      mog2 = cv2.createBackgroundSubtractorMOG2()\n",
      "    17         1        157.0    157.0      0.0      fps = int(capture.get(cv2.CAP_PROP_FPS))\n",
      "    18         1         29.0     29.0      0.0      delay = int(1000 / fps)\n",
      "    19                                           \n",
      "    20         1         35.0     35.0      0.0      if not capture.isOpened():\n",
      "    21                                                   print('Falla al abrir el archivo')\n",
      "    22                                                   return\n",
      "    23                                           \n",
      "    24         1         13.0     13.0      0.0      cpu_usage = []\n",
      "    25         1         36.0     36.0      0.0      tracemalloc.start()\n",
      "    26                                           \n",
      "    27       796      22817.0     28.7      0.0      while True:\n",
      "    28       796   14852750.0  18659.2      1.5          ret, frame = capture.read()\n",
      "    29       796      13188.0     16.6      0.0          if not ret:\n",
      "    30         1          9.0      9.0      0.0              break\n",
      "    31                                           \n",
      "    32                                                   # Se aplica MOG2 (OpenCV)\n",
      "    33       795   73286617.0  92184.4      7.6          fg_mask_mog2 = mog2.apply(frame)\n",
      "    34                                           \n",
      "    35                                                   # Se acumulan datos de monitoreo de CPU\n",
      "    36       795    3168584.0   3985.6      0.3          cpu_usage.append(psutil.cpu_percent())\n",
      "    37                                           \n",
      "    38       795    3034094.0   3816.5      0.3          cv2.imshow('Original', frame)\n",
      "    39       795    2206129.0   2775.0      0.2          cv2.imshow('MOG2', fg_mask_mog2)\n",
      "    40                                           \n",
      "    41       795  866975107.0    1e+06     89.9          if cv2.waitKey(delay) & 0xFF == ord('q'):\n",
      "    42                                                       break\n",
      "    43                                           \n",
      "    44                                               # Se obtiene pico de consumo de memoria\n",
      "    45         1         83.0     83.0      0.0      _, memory_peak = tracemalloc.get_traced_memory()\n",
      "    46         1         24.0     24.0      0.0      memory_peak /= 1024 * 1024\n",
      "    47                                           \n",
      "    48         1       9824.0   9824.0      0.0      capture.release()\n",
      "    49         1     389959.0 389959.0      0.0      cv2.destroyAllWindows()\n",
      "    50                                           \n",
      "    51         1       5390.0   5390.0      0.0      tracemalloc.stop()\n",
      "    52                                           \n",
      "    53                                               # Se calcula la media de consumo de CPU\n",
      "    54         1      56497.0  56497.0      0.0      avg_cpu = np.mean(cpu_usage)\n",
      "    55                                           \n",
      "    56         1         49.0     49.0      0.0      return avg_cpu, memory_peak"
     ]
    }
   ],
   "source": [
    "%lprun -f background_subtraction_mog2 background_subtraction_mog2(video_path)"
   ]
  },
  {
   "cell_type": "markdown",
   "metadata": {},
   "source": [
    "En este caso el algoritmo se aplica en la línea:\n",
    "\n",
    "*fg_mask_mog2 = mog2.apply(frame)*\n",
    "\n",
    "Si bien el tiempo utilizado es relativamente alto, es varios órdenes menor al cálculo de la mediana del algoritmo *naive*."
   ]
  },
  {
   "cell_type": "markdown",
   "metadata": {},
   "source": [
    "### Resumen y conclusiones\n",
    "\n",
    "De los experimentos realizados se puede observar que tanto el algoritmo *naive* como MOG2 presentan resultados aceptables. En el caso *naive* se pueden apreciar ciertos artefactos no deseados cuando algunos objetos permanecen en la misma posición durante cierto tiempo, problema que no está tan presente en MOG2 debido a que el algoritmo es menos suceptible a estos cambios bruscos. De todas formas, ambos se favorecen de este video particular en que el fondo permanece bastante estático en todo momento.\n",
    "\n",
    "Con respecto a performance, MOG2 consume más CPU pero de forma más distribuida que el caso *naive*, dado que este último tiene un costo muy grande cuando se calcula la mediana de los *N* frames. En cuanto al uso de memoria, el caso *naive* debe mantener siempre cierta cantidad de frames para poder tomar aleatoriamente *N* muestras mientras que MOG2 no, lo cual lo hace mucho más eficiente en este sentido."
   ]
  }
 ],
 "metadata": {
  "kernelspec": {
   "display_name": "env_introia",
   "language": "python",
   "name": "python3"
  },
  "language_info": {
   "codemirror_mode": {
    "name": "ipython",
    "version": 3
   },
   "file_extension": ".py",
   "mimetype": "text/x-python",
   "name": "python",
   "nbconvert_exporter": "python",
   "pygments_lexer": "ipython3",
   "version": "3.11.8"
  }
 },
 "nbformat": 4,
 "nbformat_minor": 2
}
